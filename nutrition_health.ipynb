{
  "nbformat": 4,
  "nbformat_minor": 0,
  "metadata": {
    "colab": {
      "provenance": []
    },
    "kernelspec": {
      "name": "python3",
      "display_name": "Python 3"
    },
    "language_info": {
      "name": "python"
    }
  },
  "cells": [
    {
      "cell_type": "code",
      "source": [
        "import pandas as pd\n",
        "import numpy as np\n",
        "from sklearn.model_selection import train_test_split\n",
        "from sklearn.impute import SimpleImputer\n",
        "from sklearn.preprocessing import StandardScaler\n",
        "from sklearn.ensemble import RandomForestClassifier, GradientBoostingClassifier, VotingClassifier\n",
        "from sklearn.linear_model import LogisticRegression\n",
        "from sklearn.metrics import f1_score, classification_report\n",
        "from xgboost import XGBClassifier\n",
        "from google.colab import files"
      ],
      "metadata": {
        "id": "uTL5B-fzqYhE"
      },
      "execution_count": 3,
      "outputs": []
    },
    {
      "cell_type": "code",
      "source": [
        "train = pd.read_csv(\"Train_Data.csv\")\n",
        "test = pd.read_csv(\"Test_Data.csv\")\n",
        "\n",
        "train.drop(columns=[\"SEQN\"], inplace=True)\n",
        "test_ids = test[\"SEQN\"]\n",
        "test.drop(columns=[\"SEQN\"], inplace=True)\n",
        "train[\"age_group\"] = train[\"age_group\"].map({\"Adult\": 0, \"Senior\": 1})\n",
        "train.dropna(subset=[\"age_group\"], inplace=True)"
      ],
      "metadata": {
        "id": "A2VwW7vGax87"
      },
      "execution_count": 4,
      "outputs": []
    },
    {
      "cell_type": "code",
      "source": [
        "# Feature Engineering\n",
        "def add_features(df):\n",
        "    df[\"GLU_INS_RATIO\"] = df[\"LBXGLU\"] / (df[\"LBXIN\"] + 1e-5)\n",
        "    df[\"BMI_GLU\"] = df[\"BMXBMI\"] * df[\"LBXGLU\"]\n",
        "    df[\"BMI_OVER_GLU\"] = df[\"BMXBMI\"] / (df[\"LBXGLU\"] + 1e-5)\n",
        "    df[\"INS_X_GLU\"] = df[\"LBXIN\"] * df[\"LBXGLU\"]\n",
        "    df[\"IS_OBESE\"] = (df[\"BMXBMI\"] > 30).astype(int)\n",
        "    df[\"IS_HIGHGLU\"] = (df[\"LBXGLU\"] > 125).astype(int)\n",
        "    df[\"ACTIVE_FLAG\"] = (df[\"PAQ605\"] == 1).astype(int)\n",
        "    df[\"DIABETIC_FLAG\"] = ((df[\"LBXGLU\"] > 125) | (df[\"DIQ010\"] == 1)).astype(int)\n",
        "    df[\"INSULIN_BIN\"] = pd.cut(df[\"LBXIN\"], bins=[-1, 2, 5, 10, 20, 1000], labels=False)\n",
        "    df[\"BMI_CATEGORY\"] = pd.cut(df[\"BMXBMI\"], bins=[0, 18.5, 25, 30, 35, 100], labels=False)\n",
        "    return df\n",
        "\n",
        "train = add_features(train)\n",
        "test = add_features(test)"
      ],
      "metadata": {
        "id": "_39roAZGa2Xu"
      },
      "execution_count": 5,
      "outputs": []
    },
    {
      "cell_type": "code",
      "source": [
        "#Preprocessing\n",
        "X = train.drop(columns=[\"age_group\"])\n",
        "y = train[\"age_group\"]\n",
        "\n",
        "imp = SimpleImputer(strategy=\"median\")\n",
        "scaler = StandardScaler()\n",
        "\n",
        "X = imp.fit_transform(X)\n",
        "X = scaler.fit_transform(X)\n",
        "X_test = imp.transform(test)\n",
        "X_test = scaler.transform(X_test)\n",
        "\n",
        "X_train, X_val, y_train, y_val = train_test_split(X, y, stratify=y, test_size=0.2, random_state=42)"
      ],
      "metadata": {
        "id": "RWmno8Ywa54X"
      },
      "execution_count": 6,
      "outputs": []
    },
    {
      "cell_type": "code",
      "source": [
        "rf = RandomForestClassifier(n_estimators=150, max_depth=6, class_weight='balanced', random_state=42)\n",
        "xgb = XGBClassifier(n_estimators=200, max_depth=4, learning_rate=0.07, scale_pos_weight=5, use_label_encoder=False, eval_metric='logloss', random_state=42)\n",
        "lr = LogisticRegression(class_weight='balanced', max_iter=1000, random_state=42)\n",
        "gb = GradientBoostingClassifier(n_estimators=150, learning_rate=0.05, max_depth=4, random_state=42)\n",
        "\n",
        "voting = VotingClassifier(estimators=[('rf', rf), ('xgb', xgb), ('lr', lr), ('gb', gb)], voting='soft')\n",
        "voting.fit(X_train, y_train)\n",
        "\n",
        "val_probs = voting.predict_proba(X_val)[:, 1]\n",
        "best_f1 = 0\n",
        "best_thresh = 0.5\n",
        "for t in np.arange(0.1, 0.9, 0.05):\n",
        "    preds = (val_probs >= t).astype(int)\n",
        "    f1 = f1_score(y_val, preds)\n",
        "    print(f\"Threshold: {t:.2f} → F1 Score: {f1:.4f}\")\n",
        "    if f1 > best_f1:\n",
        "        best_f1 = f1\n",
        "        best_thresh = t"
      ],
      "metadata": {
        "colab": {
          "base_uri": "https://localhost:8080/"
        },
        "id": "GLvrfwpZa9G8",
        "outputId": "cf336b2d-f124-4119-8422-2863dafdf51d"
      },
      "execution_count": 7,
      "outputs": [
        {
          "output_type": "stream",
          "name": "stderr",
          "text": [
            "/usr/local/lib/python3.11/dist-packages/xgboost/core.py:158: UserWarning: [15:21:16] WARNING: /workspace/src/learner.cc:740: \n",
            "Parameters: { \"use_label_encoder\" } are not used.\n",
            "\n",
            "  warnings.warn(smsg, UserWarning)\n"
          ]
        },
        {
          "output_type": "stream",
          "name": "stdout",
          "text": [
            "Threshold: 0.10 → F1 Score: 0.2940\n",
            "Threshold: 0.15 → F1 Score: 0.3140\n",
            "Threshold: 0.20 → F1 Score: 0.3366\n",
            "Threshold: 0.25 → F1 Score: 0.3676\n",
            "Threshold: 0.30 → F1 Score: 0.3540\n",
            "Threshold: 0.35 → F1 Score: 0.3756\n",
            "Threshold: 0.40 → F1 Score: 0.3735\n",
            "Threshold: 0.45 → F1 Score: 0.3310\n",
            "Threshold: 0.50 → F1 Score: 0.3206\n",
            "Threshold: 0.55 → F1 Score: 0.2703\n",
            "Threshold: 0.60 → F1 Score: 0.2574\n",
            "Threshold: 0.65 → F1 Score: 0.2444\n",
            "Threshold: 0.70 → F1 Score: 0.1772\n",
            "Threshold: 0.75 → F1 Score: 0.1600\n",
            "Threshold: 0.80 → F1 Score: 0.1143\n",
            "Threshold: 0.85 → F1 Score: 0.0312\n"
          ]
        }
      ]
    },
    {
      "cell_type": "code",
      "source": [
        "print(f\"\\n📌 Best Threshold: {best_thresh:.2f} → F1: {best_f1:.4f}\")\n",
        "val_preds = (val_probs >= best_thresh).astype(int)\n",
        "print(\"\\nClassification Report on Validation Set:\")\n",
        "print(classification_report(y_val, val_preds))"
      ],
      "metadata": {
        "colab": {
          "base_uri": "https://localhost:8080/"
        },
        "id": "dTMek5SvbMF-",
        "outputId": "080741be-b00f-4b43-fb53-a422ed1fe8a1"
      },
      "execution_count": 8,
      "outputs": [
        {
          "output_type": "stream",
          "name": "stdout",
          "text": [
            "\n",
            "📌 Best Threshold: 0.35 → F1: 0.3756\n",
            "\n",
            "Classification Report on Validation Set:\n",
            "              precision    recall  f1-score   support\n",
            "\n",
            "         0.0       0.90      0.70      0.79       328\n",
            "         1.0       0.28      0.59      0.38        63\n",
            "\n",
            "    accuracy                           0.69       391\n",
            "   macro avg       0.59      0.65      0.58       391\n",
            "weighted avg       0.80      0.69      0.72       391\n",
            "\n"
          ]
        }
      ]
    },
    {
      "cell_type": "code",
      "source": [
        "test_probs = voting.predict_proba(X_test)[:, 1]\n",
        "test_preds = (test_probs >= best_thresh).astype(int)\n",
        "submission = pd.DataFrame({\"age_group\": test_preds})\n",
        "submission.to_csv(\"submission.csv\", index=False, encoding='utf-8-sig', lineterminator='\\n')\n",
        "files.download(\"submission.csv\")"
      ],
      "metadata": {
        "colab": {
          "base_uri": "https://localhost:8080/",
          "height": 17
        },
        "id": "nK1cfUUtbR6K",
        "outputId": "12ab2459-c21c-4973-b05d-1fb550af935e"
      },
      "execution_count": 9,
      "outputs": [
        {
          "output_type": "display_data",
          "data": {
            "text/plain": [
              "<IPython.core.display.Javascript object>"
            ],
            "application/javascript": [
              "\n",
              "    async function download(id, filename, size) {\n",
              "      if (!google.colab.kernel.accessAllowed) {\n",
              "        return;\n",
              "      }\n",
              "      const div = document.createElement('div');\n",
              "      const label = document.createElement('label');\n",
              "      label.textContent = `Downloading \"${filename}\": `;\n",
              "      div.appendChild(label);\n",
              "      const progress = document.createElement('progress');\n",
              "      progress.max = size;\n",
              "      div.appendChild(progress);\n",
              "      document.body.appendChild(div);\n",
              "\n",
              "      const buffers = [];\n",
              "      let downloaded = 0;\n",
              "\n",
              "      const channel = await google.colab.kernel.comms.open(id);\n",
              "      // Send a message to notify the kernel that we're ready.\n",
              "      channel.send({})\n",
              "\n",
              "      for await (const message of channel.messages) {\n",
              "        // Send a message to notify the kernel that we're ready.\n",
              "        channel.send({})\n",
              "        if (message.buffers) {\n",
              "          for (const buffer of message.buffers) {\n",
              "            buffers.push(buffer);\n",
              "            downloaded += buffer.byteLength;\n",
              "            progress.value = downloaded;\n",
              "          }\n",
              "        }\n",
              "      }\n",
              "      const blob = new Blob(buffers, {type: 'application/binary'});\n",
              "      const a = document.createElement('a');\n",
              "      a.href = window.URL.createObjectURL(blob);\n",
              "      a.download = filename;\n",
              "      div.appendChild(a);\n",
              "      a.click();\n",
              "      div.remove();\n",
              "    }\n",
              "  "
            ]
          },
          "metadata": {}
        },
        {
          "output_type": "display_data",
          "data": {
            "text/plain": [
              "<IPython.core.display.Javascript object>"
            ],
            "application/javascript": [
              "download(\"download_d64775a7-6305-4306-a612-42f495a1b319\", \"submission.csv\", 637)"
            ]
          },
          "metadata": {}
        }
      ]
    }
  ]
}